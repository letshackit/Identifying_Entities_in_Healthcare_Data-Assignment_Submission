{
  "cells": [
    {
      "cell_type": "code",
      "execution_count": null,
      "metadata": {
        "id": "Torq17fDWxc-"
      },
      "outputs": [],
      "source": [
        "import pandas as pd"
      ]
    },
    {
      "cell_type": "code",
      "execution_count": null,
      "metadata": {
        "colab": {
          "base_uri": "https://localhost:8080/"
        },
        "id": "4VSo4rQiW1R0",
        "outputId": "0779f239-4cf1-4a65-9e05-04428c4efd80"
      },
      "outputs": [],
      "source": [
        "from google.colab import drive\n",
        "drive.mount('/content/gdrive')"
      ]
    },
    {
      "cell_type": "code",
      "execution_count": null,
      "metadata": {
        "id": "6X2jxsenW4L0"
      },
      "outputs": [],
      "source": [
        "def preprocess_inputfile(input_file):\n",
        "    i_file = open(input_file, 'r')\n",
        "    file_name = i_file.readlines()\n",
        "    i_file.close()\n",
        "\n",
        "    output_list = []\n",
        "\n",
        "    full_sentence = \"\"\n",
        "\n",
        "    for each_word in file_name:\n",
        "        each_word = each_word.strip()\n",
        "        if each_word == \"\":\n",
        "            output_list.append(full_sentence) \n",
        "            full_sentence = \"\" \n",
        "        else:\n",
        "            if full_sentence:\n",
        "                full_sentence += \" \" + each_word\n",
        "            else:\n",
        "                full_sentence = each_word\n",
        "                \n",
        "    return output_list"
      ]
    },
    {
      "cell_type": "code",
      "execution_count": null,
      "metadata": {
        "id": "0bAzaYWgXA4l"
      },
      "outputs": [],
      "source": [
        "train_sentences = preprocess_inputfile('/content/gdrive/MyDrive/train_sent')\n",
        "train_labels = preprocess_inputfile('/content/gdrive/MyDrive/train_label')\n",
        "test_sentences = preprocess_inputfile('/content/gdrive/MyDrive/test_sent')\n",
        "test_labels = preprocess_inputfile('/content/gdrive/MyDrive/test_label')"
      ]
    },
    {
      "cell_type": "code",
      "execution_count": null,
      "metadata": {
        "colab": {
          "base_uri": "https://localhost:8080/"
        },
        "id": "WLg-w26RXEiB",
        "outputId": "6be2c5ee-1cb3-4b4f-82b5-986606d11b75"
      },
      "outputs": [],
      "source": [
        "for each_item in range(5):\n",
        "    print(f\"Sentence {each_item+1} is: {train_sentences[each_item]}\")\n",
        "    print(f\"Label {each_item+1} is: {train_labels[each_item]}\")\n",
        "    print(\"*\"*100)"
      ]
    },
    {
      "cell_type": "code",
      "execution_count": null,
      "metadata": {
        "colab": {
          "base_uri": "https://localhost:8080/"
        },
        "id": "rNQePYPDXIch",
        "outputId": "f44c5d22-06c4-49ef-d977-55f03527cf72"
      },
      "outputs": [
        {
          "name": "stdout",
          "output_type": "stream",
          "text": [
            "Number of sentences in processed train dataset is: 2599\n",
            "Number of sentences in processed test dataset is: 1056\n"
          ]
        }
      ],
      "source": [
        "print(f\"Number of sentences in processed train dataset is: {len(train_sentences)}\")\n",
        "print(f\"Number of sentences in processed test dataset is: {len(test_sentences)}\")"
      ]
    },
    {
      "cell_type": "code",
      "execution_count": null,
      "metadata": {
        "colab": {
          "base_uri": "https://localhost:8080/"
        },
        "id": "MbVgt6ffXMZG",
        "outputId": "b3f7625d-c26f-46c5-8995-35c27c8b1181"
      },
      "outputs": [
        {
          "name": "stdout",
          "output_type": "stream",
          "text": [
            "Number of lines of labels in processed train dataset is: 2599\n",
            "Number of lines of labels in processed test dataset is: 1056\n"
          ]
        }
      ],
      "source": [
        "print(f\"Number of lines of labels in processed train dataset is: {len(train_labels)}\")\n",
        "print(f\"Number of lines of labels in processed test dataset is: {len(test_labels)}\")"
      ]
    },
    {
      "cell_type": "code",
      "execution_count": null,
      "metadata": {
        "id": "VVdoaZkWXQTH"
      },
      "outputs": [],
      "source": [
        "noun_propn_tokens_list = []"
      ]
    },
    {
      "cell_type": "code",
      "execution_count": null,
      "metadata": {
        "id": "3olxERABXTvU"
      },
      "outputs": [],
      "source": [
        "for sentences in (train_sentences, test_sentences):\n",
        "    for sent in sentences:\n",
        "        processed_sent = model(sent)\n",
        "        for each_token in processed_sent:\n",
        "            if each_token.pos_ == \"NOUN\" or each_token.pos_ == \"PROPN\":\n",
        "                noun_propn_tokens_list.append(each_token.text)"
      ]
    },
    {
      "cell_type": "code",
      "execution_count": null,
      "metadata": {
        "id": "sw5hbmF1XWlv"
      },
      "outputs": [],
      "source": [
        "df_noun_propn = pd.Series(noun_propn_tokens_list)"
      ]
    },
    {
      "cell_type": "code",
      "execution_count": null,
      "metadata": {
        "colab": {
          "base_uri": "https://localhost:8080/"
        },
        "id": "mtDafBxOXaFe",
        "outputId": "8af3f6b9-92c6-4d3e-cddc-57a2095c1127"
      },
      "outputs": [
        {
          "data": {
            "text/plain": [
              "patients        492\n",
              "treatment       281\n",
              "%               247\n",
              "cancer          200\n",
              "therapy         175\n",
              "study           154\n",
              "disease         142\n",
              "cell            140\n",
              "lung            116\n",
              "group            94\n",
              "chemotherapy     88\n",
              "gene             87\n",
              "effects          85\n",
              "women            77\n",
              "results          77\n",
              "use              75\n",
              "surgery          71\n",
              "risk             71\n",
              "cases            71\n",
              "analysis         70\n",
              "rate             67\n",
              "response         66\n",
              "dose             66\n",
              "survival         65\n",
              "children         64\n",
              "dtype: int64"
            ]
          },
          "execution_count": 12,
          "metadata": {},
          "output_type": "execute_result"
        }
      ],
      "source": [
        "df_noun_propn.value_counts().sort_values(ascending=False).head(25)"
      ]
    },
    {
      "cell_type": "code",
      "execution_count": null,
      "metadata": {
        "id": "r_Egg-luXdKu"
      },
      "outputs": [],
      "source": [
        "def getFeaturesForOneWord(sentence, pos, pos_tags):\n",
        "  word = sentence[pos]\n",
        "\n",
        "  features = [\n",
        "    'word.lower=' + word.lower(), \n",
        "    'word[-3:]=' + word[-3:],     \n",
        "    'word[-2:]=' + word[-2:],     \n",
        "    'word.isupper=%s' % word.isupper(),  \n",
        "    'word.isdigit=%s' % word.isdigit(),  \n",
        "    'word.startsWithCapital=%s' % word[0].isupper(), \n",
        "    'word.pos=' + pos_tags[pos]\n",
        "  ]\n",
        "\n",
        " \n",
        "  if(pos > 0):\n",
        "    prev_word = sentence[pos-1]\n",
        "    features.extend([\n",
        "    'prev_word.lower=' + prev_word.lower(), \n",
        "    'prev_word.isupper=%s' % prev_word.isupper(),\n",
        "    'prev_word.isdigit=%s' % prev_word.isdigit(),\n",
        "    'prev_word.startsWithCapital=%s' % prev_word[0].isupper(),\n",
        "    'prev_word.pos=' + pos_tags[pos-1]\n",
        "  ])\n",
        " \n",
        "  else:\n",
        "    features.append('BEG') \n",
        "    \n",
        "  if(pos == len(sentence)-1):\n",
        "    features.append('END') \n",
        "\n",
        "  return features"
      ]
    },
    {
      "cell_type": "code",
      "execution_count": null,
      "metadata": {
        "id": "GKHf_0Q_XlNZ"
      },
      "outputs": [],
      "source": [
        "def getFeaturesForOneSentence(sentence):\n",
        "    \n",
        "    # We need to get the pos_tags to be passed to the function\n",
        "    processed_sent = model(sentence)\n",
        "    postags = []\n",
        "    \n",
        "    for each_token in processed_sent:\n",
        "        postags.append(each_token.pos_)\n",
        "    \n",
        "    sentence_list = sentence.split()\n",
        "    return [getFeaturesForOneWord(sentence_list, pos, postags) for pos in range(len(sentence_list))]"
      ]
    },
    {
      "cell_type": "code",
      "execution_count": null,
      "metadata": {
        "id": "1BtQjTWxXonW"
      },
      "outputs": [],
      "source": [
        "def getLabelsInListForOneSentence(labels):\n",
        "  return labels.split()"
      ]
    },
    {
      "cell_type": "code",
      "execution_count": null,
      "metadata": {
        "id": "s4LgfqckXrSq"
      },
      "outputs": [],
      "source": [
        "X_train = [getFeaturesForOneSentence(sentence) for sentence in train_sentences]\n",
        "X_test = [getFeaturesForOneSentence(sentence) for sentence in test_sentences]"
      ]
    },
    {
      "cell_type": "code",
      "execution_count": null,
      "metadata": {
        "id": "gaCAbADNXtoV"
      },
      "outputs": [],
      "source": [
        "Y_train = [getLabelsInListForOneSentence(labels) for labels in train_labels]\n",
        "Y_test = [getLabelsInListForOneSentence(labels) for labels in test_labels]"
      ]
    },
    {
      "cell_type": "code",
      "execution_count": null,
      "metadata": {
        "id": "aif4hLLFXwE8"
      },
      "outputs": [],
      "source": [
        "import sklearn_crfsuite\n",
        "\n",
        "from sklearn_crfsuite import metrics"
      ]
    },
    {
      "cell_type": "code",
      "execution_count": null,
      "metadata": {
        "id": "ndNK-2xwXyel"
      },
      "outputs": [],
      "source": [
        "crf = sklearn_crfsuite.CRF(max_iterations=100)"
      ]
    },
    {
      "cell_type": "code",
      "execution_count": null,
      "metadata": {
        "id": "zt0OOXntYZEE"
      },
      "outputs": [],
      "source": [
        "try:\n",
        "    crf.fit(X_train, Y_train)\n",
        "except AttributeError:\n",
        "    pass\n",
        "predictions = crf.predict(X_test)"
      ]
    },
    {
      "cell_type": "code",
      "execution_count": null,
      "metadata": {
        "id": "2KrcAS85YhuM"
      },
      "outputs": [],
      "source": [
        "Y_pred = crf.predict(X_test)"
      ]
    },
    {
      "cell_type": "code",
      "execution_count": null,
      "metadata": {
        "colab": {
          "base_uri": "https://localhost:8080/"
        },
        "id": "YbYvdH1WYo2E",
        "outputId": "1b43e4e8-6a11-426c-ac48-cd6b00fd5e73"
      },
      "outputs": [
        {
          "name": "stdout",
          "output_type": "stream",
          "text": [
            "F1 score is: 0.9058\n"
          ]
        }
      ],
      "source": [
        "f1_score = metrics.flat_f1_score(Y_test, Y_pred, average='weighted')\n",
        "print(f\"F1 score is: {round(f1_score,4)}\")"
      ]
    },
    {
      "cell_type": "code",
      "execution_count": null,
      "metadata": {
        "id": "2iCZ6FXLYtLq"
      },
      "outputs": [],
      "source": [
        "D_T_dict = dict()\n",
        "\n",
        "for i in range(len(Y_pred)):\n",
        "    # Get the predicted labels of each test sentence into \"val\"\n",
        "    val = Y_pred[i]\n",
        "    \n",
        "    # Empty strings to store the values of Diseases and Treatments\n",
        "    Diseases = \"\"\n",
        "    Treatments = \"\"\n",
        "    \n",
        "    # Each loop will iterate through the individual labels and focus on mapping D and T labels\n",
        "    # with Diseases and Treatments within each sentence into a concatenated string\n",
        "    for j in range(len(val)):\n",
        "        if val[j] == 'D': # If label is D, it indicates a Disease \n",
        "            Diseases += test_sentences[i].split()[j] + \" \"\n",
        "        elif val[j] == 'T': # If label is T, it indicates a Treatment\n",
        "            Treatments += test_sentences[i].split()[j] + \" \"\n",
        "            \n",
        "    # Removes any extra whitespaces to either end of the string\n",
        "    Diseases = Diseases.lstrip().rstrip()\n",
        "    Treatments = Treatments.lstrip().rstrip()\n",
        "\n",
        "    # If Diseases and Treatments are blank, ignore them\n",
        "    # If Disease is not present in Dictionary, add it along with the corresponding treatment\n",
        "    # If Disease is present in the Dictionary, append the treatments for that diseases with existing\n",
        "    # treatments\n",
        "    if Diseases != \"\" and Treatments != \"\":\n",
        "        if Diseases in D_T_dict.keys():\n",
        "            treat_out = list(D_T_dict[Diseases])\n",
        "            treat_out.append(Treatments)\n",
        "            D_T_dict[Diseases] = treat_out\n",
        "        elif Diseases not in D_T_dict.keys():\n",
        "            D_T_dict[Diseases] = Treatments"
      ]
    },
    {
      "cell_type": "code",
      "execution_count": null,
      "metadata": {
        "colab": {
          "base_uri": "https://localhost:8080/",
          "height": 36
        },
        "id": "xxMAx6mvYzYP",
        "outputId": "bdc40269-7cd9-45dd-93f4-26469b98fade"
      },
      "outputs": [
        {
          "data": {
            "application/vnd.google.colaboratory.intrinsic+json": {
              "type": "string"
            },
            "text/plain": [
              "'radiotherapy'"
            ]
          },
          "execution_count": 25,
          "metadata": {},
          "output_type": "execute_result"
        }
      ],
      "source": [
        "D_T_dict['hereditary retinoblastoma']"
      ]
    },
    {
      "cell_type": "code",
      "execution_count": null,
      "metadata": {
        "id": "lZiGk_sFY1_l"
      },
      "outputs": [],
      "source": []
    }
  ],
  "metadata": {
    "colab": {
      "provenance": []
    },
    "kernelspec": {
      "display_name": "Python 3",
      "name": "python3"
    },
    "language_info": {
      "name": "python"
    }
  },
  "nbformat": 4,
  "nbformat_minor": 0
}
